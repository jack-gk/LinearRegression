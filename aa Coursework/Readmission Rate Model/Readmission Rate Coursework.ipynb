{
 "cells": [
  {
   "cell_type": "code",
   "execution_count": 1,
   "id": "78cad5c1",
   "metadata": {},
   "outputs": [],
   "source": [
    "# Import the required packages\n",
    "import pandas as pd\n",
    "import numpy as np\n",
    "from scipy import stats"
   ]
  },
  {
   "cell_type": "code",
   "execution_count": 2,
   "id": "0b15e18b",
   "metadata": {},
   "outputs": [],
   "source": [
    "# Import the file\n",
    "df = pd.read_csv('diabetic_data.csv')"
   ]
  },
  {
   "cell_type": "code",
   "execution_count": 3,
   "id": "3ec0ded8",
   "metadata": {},
   "outputs": [
    {
     "data": {
      "text/plain": [
       "(101766, 50)"
      ]
     },
     "execution_count": 3,
     "metadata": {},
     "output_type": "execute_result"
    }
   ],
   "source": [
    "# Show the shape\n",
    "df.shape"
   ]
  },
  {
   "cell_type": "code",
   "execution_count": 4,
   "id": "e0bfdb8e",
   "metadata": {},
   "outputs": [],
   "source": [
    "# Replace all '?' with NaN\n",
    "df.replace('?', np.nan, inplace=True)"
   ]
  },
  {
   "cell_type": "code",
   "execution_count": 5,
   "id": "a6b5360f",
   "metadata": {},
   "outputs": [
    {
     "name": "stdout",
     "output_type": "stream",
     "text": [
      "Removed: weight\n"
     ]
    }
   ],
   "source": [
    "# Removes columns with over 50% NaN values\n",
    "x = df.isnull().sum()/len(df)\n",
    "to_remove = x[x>0.5].index\n",
    "\n",
    "print(\"Removed: \" + \", \".join(to_remove))\n",
    "df.drop(columns=to_remove, inplace=True)"
   ]
  },
  {
   "cell_type": "code",
   "execution_count": 6,
   "id": "8f2eecf2",
   "metadata": {},
   "outputs": [
    {
     "name": "stdout",
     "output_type": "stream",
     "text": [
      "Removed : ['repaglinide', 'nateglinide', 'chlorpropamide', 'acetohexamide', 'tolbutamide', 'acarbose', 'miglitol', 'troglitazone', 'tolazamide', 'examide', 'citoglipton', 'glyburide-metformin', 'glipizide-metformin', 'glimepiride-pioglitazone', 'metformin-rosiglitazone', 'metformin-pioglitazone']\n"
     ]
    }
   ],
   "source": [
    "# Removes columns with 95% same value\n",
    "to_remove = []\n",
    "\n",
    "for i in df.columns:\n",
    "    \n",
    "    top_freq = df[i].value_counts(normalize=True)\n",
    "    top_freq = top_freq.max()\n",
    "    \n",
    "    if top_freq > 0.95:\n",
    "        to_remove.append(i)\n",
    "\n",
    "print(\"Removed :\", to_remove)\n",
    "\n",
    "df.drop(columns=to_remove, inplace=True)"
   ]
  },
  {
   "cell_type": "code",
   "execution_count": 7,
   "id": "b4d79fea",
   "metadata": {},
   "outputs": [
    {
     "name": "stdout",
     "output_type": "stream",
     "text": [
      "Age normalised\n"
     ]
    }
   ],
   "source": [
    "# Sets all ages to the average of their range\n",
    "def normalise_age(age):\n",
    "    num = age[1:-1]\n",
    "    num1, num2 = num.split('-')\n",
    "    average = (int(num1) + int(num2)) / 2\n",
    "    return average\n",
    "\n",
    "try:\n",
    "    df['age'] = df['age'].apply(normalise_age)\n",
    "    print(\"Age normalised\")\n",
    "except Exception:\n",
    "    print(\"Failed\")"
   ]
  },
  {
   "cell_type": "code",
   "execution_count": 8,
   "id": "043d796d",
   "metadata": {},
   "outputs": [],
   "source": [
    "# Sets NaN values in diag_1, diag_2 and diag_3 to 0\n",
    "df[['diag_1', 'diag_2', 'diag_3']] = df[['diag_1', 'diag_2', 'diag_3']].fillna(0)"
   ]
  },
  {
   "cell_type": "code",
   "execution_count": 9,
   "id": "61508ff3",
   "metadata": {},
   "outputs": [],
   "source": [
    "# Drops all rows with missing values\n",
    "df.dropna(inplace=True)"
   ]
  },
  {
   "cell_type": "code",
   "execution_count": 42,
   "id": "7bb92ea4",
   "metadata": {},
   "outputs": [
    {
     "name": "stdout",
     "output_type": "stream",
     "text": [
      "Categorical: \n",
      "\n",
      "race, gender, payer_code, medical_specialty, diag_1, diag_2, diag_3, max_glu_serum, A1Cresult, metformin, glimepiride, glipizide, glyburide, pioglitazone, rosiglitazone, insulin, change, diabetesMed\n",
      "\n",
      "Numerical: \n",
      "\n",
      "encounter_id, patient_nbr, age, admission_type_id, discharge_disposition_id, admission_source_id, time_in_hospital, num_lab_procedures, num_procedures, num_medications, number_outpatient, number_emergency, number_inpatient, number_diagnoses, readmitted\n"
     ]
    }
   ],
   "source": [
    "# Identify all numerical features, create lists for numerical and categorical\n",
    "# https://pandas.pydata.org/docs/reference/api/pandas.api.types.is_numeric_dtype.html\n",
    "\n",
    "cat_list = []\n",
    "num_list = []\n",
    "for i in df.columns:\n",
    "    if pd.api.types.is_numeric_dtype(df[i]):\n",
    "        num_list.append(df[i].name)\n",
    "    else:\n",
    "        cat_list.append(df[i].name)\n",
    "        \n",
    "print(\"Categorical: \\n\\n\"+\", \".join(cat_list))\n",
    "print(\"\\nNumerical: \\n\\n\"+\", \".join(num_list))"
   ]
  },
  {
   "cell_type": "code",
   "execution_count": 11,
   "id": "bbb967c2",
   "metadata": {},
   "outputs": [],
   "source": [
    "# Remove rows which contains outliers (3STD)\n",
    "\n",
    "for col in num_list:\n",
    "    mean = df[col].mean()\n",
    "    std = df[col].std()\n",
    "\n",
    "    upper = mean + 3 * std\n",
    "    lower = mean - 3 * std\n",
    "    \n",
    "    df = df[(df[col] >= lower) & (df[col] <= upper)]"
   ]
  },
  {
   "cell_type": "code",
   "execution_count": 44,
   "id": "9ab7fabb",
   "metadata": {},
   "outputs": [],
   "source": [
    "# Removes duplicates in the column patient_nbr\n",
    "# https://pandas.pydata.org/pandas-docs/stable/reference/api/pandas.DataFrame.drop_duplicates.html\n",
    "df.drop_duplicates(subset=\"patient_nbr\", inplace=True)"
   ]
  },
  {
   "cell_type": "code",
   "execution_count": 45,
   "id": "e6e53b05",
   "metadata": {},
   "outputs": [
    {
     "data": {
      "text/plain": [
       "(17507, 33)"
      ]
     },
     "execution_count": 45,
     "metadata": {},
     "output_type": "execute_result"
    }
   ],
   "source": [
    "df.shape"
   ]
  },
  {
   "cell_type": "code",
   "execution_count": 46,
   "id": "0e533dfc",
   "metadata": {},
   "outputs": [
    {
     "data": {
      "text/plain": [
       "0    10974\n",
       "1     6533\n",
       "Name: readmitted, dtype: int64"
      ]
     },
     "execution_count": 46,
     "metadata": {},
     "output_type": "execute_result"
    }
   ],
   "source": [
    "# Sets readmitted to 1 for true and 0 for false\n",
    "df['readmitted'].replace('NO', 0, inplace=True)\n",
    "df['readmitted'].replace('>30', 1, inplace=True)\n",
    "df['readmitted'].replace('<30', 1, inplace=True)\n",
    "df['readmitted'].value_counts()"
   ]
  },
  {
   "cell_type": "code",
   "execution_count": 47,
   "id": "5d77b4cf",
   "metadata": {},
   "outputs": [],
   "source": [
    "import matplotlib.pyplot as plt"
   ]
  },
  {
   "cell_type": "code",
   "execution_count": 48,
   "id": "31aeeab8",
   "metadata": {
    "scrolled": true
   },
   "outputs": [
    {
     "data": {
      "image/png": "[encoded data removed]",
      "text/plain": [
       "<Figure size 640x480 with 1 Axes>"
      ]
     },
     "metadata": {},
     "output_type": "display_data"
    }
   ],
   "source": [
    "# Visualise the admission rate by age group\n",
    "\n",
    "df_agegroup = df.groupby('age')['readmitted']\n",
    "\n",
    "plt.plot(df_agegroup.mean())\n",
    "\n",
    "plt.title('Average Readmission Rate')\n",
    "plt.xlabel('Age')\n",
    "plt.ylabel('Readmission Rate')\n",
    "plt.show()"
   ]
  },
  {
   "cell_type": "code",
   "execution_count": 51,
   "id": "0ddf1e39",
   "metadata": {},
   "outputs": [
    {
     "name": "stdout",
     "output_type": "stream",
     "text": [
      "Population per Race\n",
      "Caucasian          13211\n",
      "AfricanAmerican     3515\n",
      "Hispanic             331\n",
      "Other                305\n",
      "Asian                145\n",
      "Name: race, dtype: int64 \n",
      "\n",
      "Readmission Rate per Race\n",
      "race\n",
      "AfricanAmerican    0.330299\n",
      "Asian              0.337931\n",
      "Caucasian          0.386799\n",
      "Hispanic           0.311178\n",
      "Other              0.360656\n",
      "Name: readmitted, dtype: float64 \n",
      "\n",
      "Readmission without African Americans\n",
      "38.39336763865065\n",
      "Overall readmission rate\n",
      "37.31650197064032\n",
      "\n",
      "% Caucasian \n",
      "75.46124407379905 %\n",
      "% Hispanic \n",
      "1.8906723025075685 %\n",
      "\n"
     ]
    }
   ],
   "source": [
    "print(\"Population per Race\") \n",
    "race_population = df['race'].value_counts()\n",
    "print(race_population,\"\\n\")\n",
    "\n",
    "print(\"Readmission Rate per Race\")\n",
    "race_readmission_rate = df.groupby('race')['readmitted'].mean()\n",
    "print(race_readmission_rate,\"\\n\")\n",
    "\n",
    "print(\"Readmission without African Americans\")\n",
    "without_aa = df[df['race']!='AfricanAmerican']\n",
    "x = without_aa['readmitted']\n",
    "print(x.mean()*100)\n",
    "print(\"Overall readmission rate\")\n",
    "overall_readmission_rate = df['readmitted'].mean()\n",
    "print(overall_readmission_rate*100)\n",
    "\n",
    "print(\"\\n% Caucasian \")\n",
    "print(df['race'].value_counts().get('Caucasian', 0)/df['race'].value_counts().sum()*100,\"%\")\n",
    "print(\"% Hispanic \")\n",
    "print(df['race'].value_counts().get('Hispanic', 0)/df['race'].value_counts().sum()*100,\"%\\n\")"
   ]
  },
  {
   "cell_type": "code",
   "execution_count": 18,
   "id": "0c2da214",
   "metadata": {},
   "outputs": [
    {
     "name": "stdout",
     "output_type": "stream",
     "text": [
      "[[ 1822  2972]\n",
      " [ 7980 10542]]\n",
      "2.4192922365570316e-10\n"
     ]
    }
   ],
   "source": [
    "from scipy.stats import chi2_contingency\n",
    "\n",
    "# https://docs.scipy.org/doc/scipy/reference/generated/scipy.stats.chi2_contingency.html\n",
    "\n",
    "x = df[(df['race'] == 'AfricanAmerican') & (df['readmitted'] == 1)]\n",
    "x = x['readmitted'].value_counts().sum()\n",
    "y = df[(df['race'] == 'AfricanAmerican') & (df['readmitted'] == 0)]\n",
    "y = y['readmitted'].value_counts().sum()\n",
    "       \n",
    "table = np.array([[x,y], [df[df['readmitted'] == 1].shape[0]-x, df[df['readmitted'] == 0].shape[0]-y]])\n",
    "print(table)\n",
    "res = chi2_contingency(table)\n",
    "print(res.pvalue)"
   ]
  },
  {
   "cell_type": "code",
   "execution_count": 19,
   "id": "7d566cf0",
   "metadata": {
    "scrolled": true
   },
   "outputs": [
    {
     "data": {
      "image/png": "[encoded data removed]",
      "text/plain": [
       "<Figure size 640x480 with 1 Axes>"
      ]
     },
     "metadata": {},
     "output_type": "display_data"
    }
   ],
   "source": [
    "race_readmission_rate.plot(kind='barh')\n",
    "    \n",
    "plt.title('Readmission Rate in Race')\n",
    "plt.xlabel('Readmission Rate')\n",
    "plt.grid()\n",
    "plt.xlim(0.3,0.5)\n",
    "plt.show()\n"
   ]
  },
  {
   "cell_type": "code",
   "execution_count": 20,
   "id": "1d201fa9",
   "metadata": {},
   "outputs": [
    {
     "data": {
      "image/png": "[encoded data removed]",
      "text/plain": [
       "<Figure size 640x480 with 1 Axes>"
      ]
     },
     "metadata": {},
     "output_type": "display_data"
    }
   ],
   "source": [
    "df_gendergroup = df.groupby('gender')['readmitted'].mean()\n",
    "\n",
    "df_gendergroup.plot(kind='barh')\n",
    "\n",
    "plt.title('Readmission Rate in Gender')\n",
    "plt.xlabel('Readmission Rate')\n",
    "plt.grid()\n",
    "plt.xlim(0.4,0.45)\n",
    "plt.show()"
   ]
  },
  {
   "cell_type": "code",
   "execution_count": 21,
   "id": "f007a813",
   "metadata": {
    "scrolled": true
   },
   "outputs": [],
   "source": [
    "df_id = pd.read_csv('icd_codes.csv')\n",
    "df_newid = df_id\n",
    "\n",
    "def find_id(i):\n",
    "    try:\n",
    "        i=float(i)\n",
    "        if((i>=390 and i<=459)or(i==785)):\n",
    "            return \"Circulatory System Disease\"\n",
    "        elif(i>=250.001 and i<=250.999):\n",
    "            return \"Diabetes\"\n",
    "        elif((i>=460 and i<=519)or(i==786)):\n",
    "            return \"Respiratory System Disease\"\n",
    "        elif((i>=520 and i<=579)or(i==787)):\n",
    "            return \"Digestive System Disease\"\n",
    "        elif((i>=800 and i<=999)):\n",
    "            return \"Injury and poisoning\"\n",
    "        elif((i>=710 and i<=739)):\n",
    "            return \"Musculoskeletal System Disease\"\n",
    "        elif((i>=580 and i<=629)or(i==788)):\n",
    "            return \"Genitourinary System Disease\"\n",
    "        elif((i>=140 and i<=239)):\n",
    "            return \"Neoplasms\"\n",
    "        else:\n",
    "            return \"Other\"\n",
    "    except:\n",
    "        i = str(i)\n",
    "        if(i[0]==\"E\"):\n",
    "            return \"Physical Injury\"\n",
    "        elif(i[0]==\"V\"):\n",
    "            return \"Health Complication\"\n",
    "        else:\n",
    "            return \"Other\"\n",
    "    return \"Other\"\n",
    "            \n",
    "    "
   ]
  },
  {
   "cell_type": "code",
   "execution_count": 22,
   "id": "7c9ff18c",
   "metadata": {},
   "outputs": [],
   "source": [
    "df['diag_1'] = df['diag_1'].apply(find_id)\n",
    "df['diag_2'] = df['diag_2'].apply(find_id)\n",
    "df['diag_3'] = df['diag_3'].apply(find_id)"
   ]
  },
  {
   "cell_type": "code",
   "execution_count": 23,
   "id": "0900ee99",
   "metadata": {},
   "outputs": [
    {
     "data": {
      "image/png": "[encoded data removed]",
      "text/plain": [
       "<Figure size 640x480 with 1 Axes>"
      ]
     },
     "metadata": {},
     "output_type": "display_data"
    }
   ],
   "source": [
    "df_diaggroup = df.groupby('diag_1')['readmitted'].mean()\n",
    "\n",
    "df_diaggroup.plot(kind='barh')\n",
    "    \n",
    "plt.title('Readmission Rate in Diag_1')\n",
    "plt.xlabel('Readmission Rate')\n",
    "plt.grid()\n",
    "plt.xlim(0.0,0.5)\n",
    "plt.show()\n",
    "\n",
    "# NOTE -\n",
    "# There are no 'Physical Injury' entries in Diag_1"
   ]
  },
  {
   "cell_type": "code",
   "execution_count": 24,
   "id": "4e7b65d9",
   "metadata": {},
   "outputs": [],
   "source": [
    "df_model = df[['num_medications', 'number_outpatient', 'number_emergency', 'time_in_hospital', 'number_inpatient','encounter_id', 'age', 'num_lab_procedures', 'number_diagnoses','num_procedures', 'readmitted']]"
   ]
  },
  {
   "cell_type": "code",
   "execution_count": 25,
   "id": "87b284e9",
   "metadata": {},
   "outputs": [],
   "source": [
    "from sklearn.model_selection import train_test_split, cross_val_score\n",
    "from sklearn import model_selection, linear_model\n",
    "from sklearn.metrics import confusion_matrix"
   ]
  },
  {
   "cell_type": "code",
   "execution_count": 26,
   "id": "37642349",
   "metadata": {},
   "outputs": [],
   "source": [
    "# Normalise\n",
    "df_model=((df_model-df_model.min())/(df_model.max()-df_model.min()))"
   ]
  },
  {
   "cell_type": "code",
   "execution_count": 27,
   "id": "573c7a65",
   "metadata": {
    "scrolled": true
   },
   "outputs": [],
   "source": [
    "# Remove ID as has no corrolation to readmission \n",
    "df_model = df_model.drop(['encounter_id', 'readmitted'], axis=1)"
   ]
  },
  {
   "cell_type": "code",
   "execution_count": 28,
   "id": "1dd1810b",
   "metadata": {},
   "outputs": [
    {
     "name": "stdout",
     "output_type": "stream",
     "text": [
      "Training data score:\t 0.63076345700193\n",
      "Test data score:\t 0.6181389365351629\n"
     ]
    }
   ],
   "source": [
    "# Calculate training / test scores\n",
    "clf = linear_model.LogisticRegression()\n",
    "\n",
    "X = df_model\n",
    "Y = df['readmitted']\n",
    "    \n",
    "X_train, X_test, Y_train, Y_test = train_test_split(X, Y, test_size=0.2)\n",
    "\n",
    "clf.fit(X_train, Y_train)\n",
    "\n",
    "print(\"Training data score:\\t\",clf.score(X_train, Y_train))\n",
    "print(\"Test data score:\\t\",clf.score(X_test, Y_test))\n"
   ]
  },
  {
   "cell_type": "code",
   "execution_count": 29,
   "id": "f3490d91",
   "metadata": {},
   "outputs": [
    {
     "name": "stdout",
     "output_type": "stream",
     "text": [
      "Threshold of 0.5\n",
      "\n",
      " predict     0    1\n",
      "actual            \n",
      "0        2253  393\n",
      "1        1388  630\n"
     ]
    }
   ],
   "source": [
    "# Show the confusion matrix\n",
    "\n",
    "prob_df = pd.DataFrame(clf.predict_proba(X_test)[:, 1])\n",
    "prob_df['predict'] = np.where(prob_df[0]>=0.5, 1, 0)\n",
    "prob_df['actual'] = Y_test.reset_index(drop=True)\n",
    "\n",
    "cmatrix = pd.crosstab(prob_df['actual'], prob_df['predict'])\n",
    "print(\"Threshold of 0.5\\n\\n\", cmatrix)"
   ]
  },
  {
   "cell_type": "markdown",
   "id": "8f24c37d-c44c-4c57-9774-ccad70ce769f",
   "metadata": {},
   "source": [
    "TN = 2253\n",
    "FP = 393\n",
    "FN = 1388\n",
    "TP = 630"
   ]
  },
  {
   "cell_type": "code",
   "execution_count": 30,
   "id": "843cbc6f",
   "metadata": {},
   "outputs": [
    {
     "name": "stdout",
     "output_type": "stream",
     "text": [
      "Cross validation score: 0.6200672527128788\n"
     ]
    }
   ],
   "source": [
    "CV_score = model_selection.cross_val_score(clf, X_test, Y_test, scoring='accuracy', cv=5)\n",
    "print(\"Cross validation score:\",CV_score.mean())\n",
    "\n",
    "# Shows accuracy when using 5 folds in the data\n",
    "# Cross validation shows that the initial values are accurate"
   ]
  },
  {
   "cell_type": "code",
   "execution_count": 31,
   "id": "ae39564e",
   "metadata": {},
   "outputs": [],
   "source": [
    "df.columns\n",
    "df_model2 = df[['encounter_id','patient_nbr','race', 'gender', 'age',\n",
    "       'admission_type_id', 'discharge_disposition_id', 'admission_source_id',\n",
    "       'time_in_hospital', 'payer_code', 'medical_specialty',\n",
    "       'num_lab_procedures', 'num_procedures', 'num_medications',\n",
    "       'number_outpatient', 'number_emergency', 'number_inpatient', 'diag_1',\n",
    "       'diag_2', 'diag_3', 'number_diagnoses', 'max_glu_serum', 'A1Cresult',\n",
    "       'metformin', 'glimepiride', 'glipizide', 'glyburide', 'pioglitazone',\n",
    "       'rosiglitazone', 'insulin', 'change', 'diabetesMed']]\n",
    "\n",
    "cat_list.remove('readmitted')"
   ]
  },
  {
   "cell_type": "code",
   "execution_count": 32,
   "id": "22e449d3",
   "metadata": {},
   "outputs": [],
   "source": [
    "# Normalise\n",
    "df_model2_norm=((df_model2[num_list]-df_model2[num_list].min())/(df_model2[num_list].max()-df_model2[num_list].min()))\n",
    "\n",
    "df_model2_dummies = pd.get_dummies(df_model2[cat_list])\n",
    "\n",
    "df_model2_processed = pd.concat([df_model2_norm, df_model2_dummies], axis=1)"
   ]
  },
  {
   "cell_type": "code",
   "execution_count": 33,
   "id": "47d36e33",
   "metadata": {
    "scrolled": true
   },
   "outputs": [
    {
     "data": {
      "text/html": [
       "<div>\n",
       "<style scoped>\n",
       "    .dataframe tbody tr th:only-of-type {\n",
       "        vertical-align: middle;\n",
       "    }\n",
       "\n",
       "    .dataframe tbody tr th {\n",
       "        vertical-align: top;\n",
       "    }\n",
       "\n",
       "    .dataframe thead th {\n",
       "        text-align: right;\n",
       "    }\n",
       "</style>\n",
       "<table border=\"1\" class=\"dataframe\">\n",
       "  <thead>\n",
       "    <tr style=\"text-align: right;\">\n",
       "      <th></th>\n",
       "      <th>encounter_id</th>\n",
       "      <th>patient_nbr</th>\n",
       "      <th>age</th>\n",
       "      <th>admission_type_id</th>\n",
       "      <th>discharge_disposition_id</th>\n",
       "      <th>admission_source_id</th>\n",
       "      <th>time_in_hospital</th>\n",
       "      <th>num_lab_procedures</th>\n",
       "      <th>num_procedures</th>\n",
       "      <th>num_medications</th>\n",
       "      <th>...</th>\n",
       "      <th>rosiglitazone_Steady</th>\n",
       "      <th>rosiglitazone_Up</th>\n",
       "      <th>insulin_Down</th>\n",
       "      <th>insulin_No</th>\n",
       "      <th>insulin_Steady</th>\n",
       "      <th>insulin_Up</th>\n",
       "      <th>change_Ch</th>\n",
       "      <th>change_No</th>\n",
       "      <th>diabetesMed_No</th>\n",
       "      <th>diabetesMed_Yes</th>\n",
       "    </tr>\n",
       "  </thead>\n",
       "  <tbody>\n",
       "    <tr>\n",
       "      <th>20737</th>\n",
       "      <td>0.000000</td>\n",
       "      <td>0.121866</td>\n",
       "      <td>0.571429</td>\n",
       "      <td>0.5</td>\n",
       "      <td>0.000000</td>\n",
       "      <td>0.000000</td>\n",
       "      <td>0.166667</td>\n",
       "      <td>0.585859</td>\n",
       "      <td>0.500000</td>\n",
       "      <td>0.250</td>\n",
       "      <td>...</td>\n",
       "      <td>0</td>\n",
       "      <td>0</td>\n",
       "      <td>0</td>\n",
       "      <td>0</td>\n",
       "      <td>1</td>\n",
       "      <td>0</td>\n",
       "      <td>0</td>\n",
       "      <td>1</td>\n",
       "      <td>0</td>\n",
       "      <td>1</td>\n",
       "    </tr>\n",
       "    <tr>\n",
       "      <th>20824</th>\n",
       "      <td>0.000586</td>\n",
       "      <td>0.122047</td>\n",
       "      <td>1.000000</td>\n",
       "      <td>0.0</td>\n",
       "      <td>0.000000</td>\n",
       "      <td>0.500000</td>\n",
       "      <td>0.250000</td>\n",
       "      <td>0.555556</td>\n",
       "      <td>0.166667</td>\n",
       "      <td>0.200</td>\n",
       "      <td>...</td>\n",
       "      <td>0</td>\n",
       "      <td>0</td>\n",
       "      <td>0</td>\n",
       "      <td>1</td>\n",
       "      <td>0</td>\n",
       "      <td>0</td>\n",
       "      <td>0</td>\n",
       "      <td>1</td>\n",
       "      <td>0</td>\n",
       "      <td>1</td>\n",
       "    </tr>\n",
       "    <tr>\n",
       "      <th>21083</th>\n",
       "      <td>0.002423</td>\n",
       "      <td>0.122853</td>\n",
       "      <td>0.714286</td>\n",
       "      <td>0.0</td>\n",
       "      <td>0.071429</td>\n",
       "      <td>0.500000</td>\n",
       "      <td>0.750000</td>\n",
       "      <td>0.676768</td>\n",
       "      <td>0.166667</td>\n",
       "      <td>0.425</td>\n",
       "      <td>...</td>\n",
       "      <td>0</td>\n",
       "      <td>0</td>\n",
       "      <td>0</td>\n",
       "      <td>0</td>\n",
       "      <td>1</td>\n",
       "      <td>0</td>\n",
       "      <td>1</td>\n",
       "      <td>0</td>\n",
       "      <td>0</td>\n",
       "      <td>1</td>\n",
       "    </tr>\n",
       "    <tr>\n",
       "      <th>23879</th>\n",
       "      <td>0.023341</td>\n",
       "      <td>0.043293</td>\n",
       "      <td>0.714286</td>\n",
       "      <td>0.0</td>\n",
       "      <td>0.142857</td>\n",
       "      <td>0.416667</td>\n",
       "      <td>0.916667</td>\n",
       "      <td>0.767677</td>\n",
       "      <td>0.833333</td>\n",
       "      <td>0.450</td>\n",
       "      <td>...</td>\n",
       "      <td>0</td>\n",
       "      <td>0</td>\n",
       "      <td>0</td>\n",
       "      <td>0</td>\n",
       "      <td>1</td>\n",
       "      <td>0</td>\n",
       "      <td>0</td>\n",
       "      <td>1</td>\n",
       "      <td>0</td>\n",
       "      <td>1</td>\n",
       "    </tr>\n",
       "    <tr>\n",
       "      <th>23922</th>\n",
       "      <td>0.023623</td>\n",
       "      <td>0.092492</td>\n",
       "      <td>0.714286</td>\n",
       "      <td>0.0</td>\n",
       "      <td>0.142857</td>\n",
       "      <td>0.416667</td>\n",
       "      <td>0.916667</td>\n",
       "      <td>0.595960</td>\n",
       "      <td>0.833333</td>\n",
       "      <td>0.225</td>\n",
       "      <td>...</td>\n",
       "      <td>0</td>\n",
       "      <td>0</td>\n",
       "      <td>0</td>\n",
       "      <td>1</td>\n",
       "      <td>0</td>\n",
       "      <td>0</td>\n",
       "      <td>0</td>\n",
       "      <td>1</td>\n",
       "      <td>1</td>\n",
       "      <td>0</td>\n",
       "    </tr>\n",
       "    <tr>\n",
       "      <th>...</th>\n",
       "      <td>...</td>\n",
       "      <td>...</td>\n",
       "      <td>...</td>\n",
       "      <td>...</td>\n",
       "      <td>...</td>\n",
       "      <td>...</td>\n",
       "      <td>...</td>\n",
       "      <td>...</td>\n",
       "      <td>...</td>\n",
       "      <td>...</td>\n",
       "      <td>...</td>\n",
       "      <td>...</td>\n",
       "      <td>...</td>\n",
       "      <td>...</td>\n",
       "      <td>...</td>\n",
       "      <td>...</td>\n",
       "      <td>...</td>\n",
       "      <td>...</td>\n",
       "      <td>...</td>\n",
       "      <td>...</td>\n",
       "      <td>...</td>\n",
       "    </tr>\n",
       "    <tr>\n",
       "      <th>101278</th>\n",
       "      <td>0.999939</td>\n",
       "      <td>0.314893</td>\n",
       "      <td>0.571429</td>\n",
       "      <td>0.0</td>\n",
       "      <td>0.000000</td>\n",
       "      <td>0.500000</td>\n",
       "      <td>0.500000</td>\n",
       "      <td>0.535354</td>\n",
       "      <td>0.666667</td>\n",
       "      <td>0.325</td>\n",
       "      <td>...</td>\n",
       "      <td>0</td>\n",
       "      <td>0</td>\n",
       "      <td>0</td>\n",
       "      <td>1</td>\n",
       "      <td>0</td>\n",
       "      <td>0</td>\n",
       "      <td>0</td>\n",
       "      <td>1</td>\n",
       "      <td>0</td>\n",
       "      <td>1</td>\n",
       "    </tr>\n",
       "    <tr>\n",
       "      <th>101281</th>\n",
       "      <td>0.999969</td>\n",
       "      <td>0.583644</td>\n",
       "      <td>0.571429</td>\n",
       "      <td>1.0</td>\n",
       "      <td>0.000000</td>\n",
       "      <td>0.000000</td>\n",
       "      <td>0.166667</td>\n",
       "      <td>0.202020</td>\n",
       "      <td>0.666667</td>\n",
       "      <td>0.250</td>\n",
       "      <td>...</td>\n",
       "      <td>0</td>\n",
       "      <td>0</td>\n",
       "      <td>0</td>\n",
       "      <td>1</td>\n",
       "      <td>0</td>\n",
       "      <td>0</td>\n",
       "      <td>0</td>\n",
       "      <td>1</td>\n",
       "      <td>1</td>\n",
       "      <td>0</td>\n",
       "    </tr>\n",
       "    <tr>\n",
       "      <th>101282</th>\n",
       "      <td>0.999970</td>\n",
       "      <td>0.265561</td>\n",
       "      <td>0.857143</td>\n",
       "      <td>0.0</td>\n",
       "      <td>0.357143</td>\n",
       "      <td>0.500000</td>\n",
       "      <td>0.166667</td>\n",
       "      <td>0.343434</td>\n",
       "      <td>0.000000</td>\n",
       "      <td>0.375</td>\n",
       "      <td>...</td>\n",
       "      <td>0</td>\n",
       "      <td>0</td>\n",
       "      <td>0</td>\n",
       "      <td>0</td>\n",
       "      <td>1</td>\n",
       "      <td>0</td>\n",
       "      <td>0</td>\n",
       "      <td>1</td>\n",
       "      <td>0</td>\n",
       "      <td>1</td>\n",
       "    </tr>\n",
       "    <tr>\n",
       "      <th>101284</th>\n",
       "      <td>1.000000</td>\n",
       "      <td>0.849389</td>\n",
       "      <td>0.857143</td>\n",
       "      <td>0.5</td>\n",
       "      <td>0.000000</td>\n",
       "      <td>0.250000</td>\n",
       "      <td>0.166667</td>\n",
       "      <td>0.000000</td>\n",
       "      <td>0.000000</td>\n",
       "      <td>0.350</td>\n",
       "      <td>...</td>\n",
       "      <td>0</td>\n",
       "      <td>0</td>\n",
       "      <td>0</td>\n",
       "      <td>0</td>\n",
       "      <td>0</td>\n",
       "      <td>1</td>\n",
       "      <td>1</td>\n",
       "      <td>0</td>\n",
       "      <td>0</td>\n",
       "      <td>1</td>\n",
       "    </tr>\n",
       "    <tr>\n",
       "      <th>101286</th>\n",
       "      <td>1.000000</td>\n",
       "      <td>0.278020</td>\n",
       "      <td>0.857143</td>\n",
       "      <td>0.5</td>\n",
       "      <td>0.000000</td>\n",
       "      <td>0.000000</td>\n",
       "      <td>0.083333</td>\n",
       "      <td>0.404040</td>\n",
       "      <td>0.500000</td>\n",
       "      <td>0.300</td>\n",
       "      <td>...</td>\n",
       "      <td>0</td>\n",
       "      <td>0</td>\n",
       "      <td>0</td>\n",
       "      <td>1</td>\n",
       "      <td>0</td>\n",
       "      <td>0</td>\n",
       "      <td>0</td>\n",
       "      <td>1</td>\n",
       "      <td>1</td>\n",
       "      <td>0</td>\n",
       "    </tr>\n",
       "  </tbody>\n",
       "</table>\n",
       "<p>23316 rows × 160 columns</p>\n",
       "</div>"
      ],
      "text/plain": [
       "        encounter_id  patient_nbr       age  admission_type_id  \\\n",
       "20737       0.000000     0.121866  0.571429                0.5   \n",
       "20824       0.000586     0.122047  1.000000                0.0   \n",
       "21083       0.002423     0.122853  0.714286                0.0   \n",
       "23879       0.023341     0.043293  0.714286                0.0   \n",
       "23922       0.023623     0.092492  0.714286                0.0   \n",
       "...              ...          ...       ...                ...   \n",
       "101278      0.999939     0.314893  0.571429                0.0   \n",
       "101281      0.999969     0.583644  0.571429                1.0   \n",
       "101282      0.999970     0.265561  0.857143                0.0   \n",
       "101284      1.000000     0.849389  0.857143                0.5   \n",
       "101286      1.000000     0.278020  0.857143                0.5   \n",
       "\n",
       "        discharge_disposition_id  admission_source_id  time_in_hospital  \\\n",
       "20737                   0.000000             0.000000          0.166667   \n",
       "20824                   0.000000             0.500000          0.250000   \n",
       "21083                   0.071429             0.500000          0.750000   \n",
       "23879                   0.142857             0.416667          0.916667   \n",
       "23922                   0.142857             0.416667          0.916667   \n",
       "...                          ...                  ...               ...   \n",
       "101278                  0.000000             0.500000          0.500000   \n",
       "101281                  0.000000             0.000000          0.166667   \n",
       "101282                  0.357143             0.500000          0.166667   \n",
       "101284                  0.000000             0.250000          0.166667   \n",
       "101286                  0.000000             0.000000          0.083333   \n",
       "\n",
       "        num_lab_procedures  num_procedures  num_medications  ...  \\\n",
       "20737             0.585859        0.500000            0.250  ...   \n",
       "20824             0.555556        0.166667            0.200  ...   \n",
       "21083             0.676768        0.166667            0.425  ...   \n",
       "23879             0.767677        0.833333            0.450  ...   \n",
       "23922             0.595960        0.833333            0.225  ...   \n",
       "...                    ...             ...              ...  ...   \n",
       "101278            0.535354        0.666667            0.325  ...   \n",
       "101281            0.202020        0.666667            0.250  ...   \n",
       "101282            0.343434        0.000000            0.375  ...   \n",
       "101284            0.000000        0.000000            0.350  ...   \n",
       "101286            0.404040        0.500000            0.300  ...   \n",
       "\n",
       "        rosiglitazone_Steady  rosiglitazone_Up  insulin_Down  insulin_No  \\\n",
       "20737                      0                 0             0           0   \n",
       "20824                      0                 0             0           1   \n",
       "21083                      0                 0             0           0   \n",
       "23879                      0                 0             0           0   \n",
       "23922                      0                 0             0           1   \n",
       "...                      ...               ...           ...         ...   \n",
       "101278                     0                 0             0           1   \n",
       "101281                     0                 0             0           1   \n",
       "101282                     0                 0             0           0   \n",
       "101284                     0                 0             0           0   \n",
       "101286                     0                 0             0           1   \n",
       "\n",
       "        insulin_Steady  insulin_Up  change_Ch  change_No  diabetesMed_No  \\\n",
       "20737                1           0          0          1               0   \n",
       "20824                0           0          0          1               0   \n",
       "21083                1           0          1          0               0   \n",
       "23879                1           0          0          1               0   \n",
       "23922                0           0          0          1               1   \n",
       "...                ...         ...        ...        ...             ...   \n",
       "101278               0           0          0          1               0   \n",
       "101281               0           0          0          1               1   \n",
       "101282               1           0          0          1               0   \n",
       "101284               0           1          1          0               0   \n",
       "101286               0           0          0          1               1   \n",
       "\n",
       "        diabetesMed_Yes  \n",
       "20737                 1  \n",
       "20824                 1  \n",
       "21083                 1  \n",
       "23879                 1  \n",
       "23922                 0  \n",
       "...                 ...  \n",
       "101278                1  \n",
       "101281                0  \n",
       "101282                1  \n",
       "101284                1  \n",
       "101286                0  \n",
       "\n",
       "[23316 rows x 160 columns]"
      ]
     },
     "execution_count": 33,
     "metadata": {},
     "output_type": "execute_result"
    }
   ],
   "source": [
    "df_model2_processed"
   ]
  },
  {
   "cell_type": "code",
   "execution_count": 34,
   "id": "47d1b1ec",
   "metadata": {},
   "outputs": [
    {
     "name": "stdout",
     "output_type": "stream",
     "text": [
      "Training data score:\t 0.6640038601758524\n",
      "Test data score:\t 0.6672384219554031\n"
     ]
    }
   ],
   "source": [
    "# Calculate training / test scores\n",
    "clf = linear_model.LogisticRegression(max_iter=1000)\n",
    "\n",
    "X = df_model2_processed\n",
    "Y = df['readmitted']\n",
    "    \n",
    "X_train, X_test, Y_train, Y_test = train_test_split(X, Y, test_size=0.2)\n",
    "\n",
    "clf.fit(X_train, Y_train)\n",
    "\n",
    "print(\"Training data score:\\t\",clf.score(X_train, Y_train))\n",
    "print(\"Test data score:\\t\",clf.score(X_test, Y_test))"
   ]
  },
  {
   "cell_type": "code",
   "execution_count": 35,
   "id": "38db7f49",
   "metadata": {},
   "outputs": [
    {
     "name": "stdout",
     "output_type": "stream",
     "text": [
      "Cross validation score: 0.6584512095828216\n"
     ]
    }
   ],
   "source": [
    "CV_score = model_selection.cross_val_score(clf, X_test, Y_test, scoring='accuracy', cv=5)\n",
    "print(\"Cross validation score:\",CV_score.mean())\n",
    "\n",
    "# Shows accuracy when using 5 folds in the data\n",
    "# Cross validation shows that the initial values are accurate"
   ]
  },
  {
   "cell_type": "code",
   "execution_count": 36,
   "id": "7567a0d6",
   "metadata": {},
   "outputs": [
    {
     "name": "stdout",
     "output_type": "stream",
     "text": [
      "Threshold of 0.45\n",
      "\n",
      " predict     0     1\n",
      "actual             \n",
      "0        1922   756\n",
      "1         807  1179\n"
     ]
    }
   ],
   "source": [
    "# Show the confusion matrix\n",
    "\n",
    "prob_df = pd.DataFrame(clf.predict_proba(X_test)[:, 1])\n",
    "prob_df['predict'] = np.where(prob_df[0]>=0.45, 1, 0)\n",
    "prob_df['actual'] = Y_test.reset_index(drop=True)\n",
    "\n",
    "cmatrix = pd.crosstab(prob_df['actual'], prob_df['predict'])\n",
    "print(\"Threshold of 0.45\\n\\n\", cmatrix)"
   ]
  },
  {
   "cell_type": "code",
   "execution_count": 37,
   "id": "d3a9d3da",
   "metadata": {},
   "outputs": [
    {
     "name": "stderr",
     "output_type": "stream",
     "text": [
      "C:\\Users\\Jack\\AppData\\Local\\Temp\\ipykernel_14088\\1903376996.py:31: SettingWithCopyWarning: \n",
      "A value is trying to be set on a copy of a slice from a DataFrame.\n",
      "Try using .loc[row_indexer,col_indexer] = value instead\n",
      "\n",
      "See the caveats in the documentation: https://pandas.pydata.org/pandas-docs/stable/user_guide/indexing.html#returning-a-view-versus-a-copy\n",
      "  df_model2_processed['clust']=md\n"
     ]
    }
   ],
   "source": [
    "# With help from Lecture 8 Notes\n",
    "\n",
    "df_model2_processed = df_model2_processed[['age', 'race_AfricanAmerican',\n",
    " 'race_Asian',\n",
    " 'race_Caucasian',\n",
    " 'race_Hispanic',\n",
    " 'race_Other',\n",
    " 'diag_1_Circulatory System Disease',\n",
    " 'diag_1_Diabetes',\n",
    " 'diag_1_Digestive System Disease',\n",
    " 'diag_1_Genitourinary System Disease',\n",
    " 'diag_1_Health Complication',\n",
    " 'diag_1_Injury and poisoning',\n",
    " 'diag_1_Musculoskeletal System Disease',\n",
    " 'diag_1_Neoplasms',\n",
    " 'diag_1_Other',\n",
    " 'diag_1_Physical Injury',\n",
    " 'diag_1_Respiratory System Disease',\n",
    " 'gender_Female',\n",
    " 'gender_Male']]\n",
    "\n",
    "\n",
    "from sklearn.cluster import KMeans\n",
    "from sklearn import datasets\n",
    "\n",
    "model = KMeans(n_clusters=3, n_init=10)\n",
    "model.fit(df_model2_processed)\n",
    "\n",
    "md = model.labels_\n",
    "\n",
    "df_model2_processed['clust']=md"
   ]
  },
  {
   "cell_type": "code",
   "execution_count": 38,
   "id": "2136668e",
   "metadata": {},
   "outputs": [
    {
     "name": "stdout",
     "output_type": "stream",
     "text": [
      "(23316, 20)\n"
     ]
    }
   ],
   "source": [
    "print(df_model2_processed.shape)"
   ]
  },
  {
   "cell_type": "code",
   "execution_count": 39,
   "id": "5ca1f5fe",
   "metadata": {},
   "outputs": [
    {
     "data": {
      "text/plain": [
       "2    9639\n",
       "1    8883\n",
       "0    4794\n",
       "Name: clust, dtype: int64"
      ]
     },
     "execution_count": 39,
     "metadata": {},
     "output_type": "execute_result"
    }
   ],
   "source": [
    "df_model2_processed['clust'].value_counts()\n",
    "# Number of entries in each cluster"
   ]
  },
  {
   "cell_type": "code",
   "execution_count": 40,
   "id": "e8b249b2",
   "metadata": {
    "scrolled": true
   },
   "outputs": [
    {
     "name": "stdout",
     "output_type": "stream",
     "text": [
      "Average Normalized age:  clust\n",
      "0    52.929257\n",
      "1    59.202972\n",
      "2    63.656574\n",
      "Name: age, dtype: float64\n",
      "Male % :  clust\n",
      "0     37.025448\n",
      "1    100.000000\n",
      "2      0.000000\n",
      "Name: gender_Male, dtype: float64\n",
      "Female % :  clust\n",
      "0     62.974552\n",
      "1      0.000000\n",
      "2    100.000000\n",
      "Name: gender_Female, dtype: float64\n",
      "Caucasian % :  clust\n",
      "0     0.000000\n",
      "1    93.920973\n",
      "2    94.511879\n",
      "Name: race_Caucasian, dtype: float64\n",
      "AfricanAmerican % :  clust\n",
      "0    100.0\n",
      "1      0.0\n",
      "2      0.0\n",
      "Name: race_AfricanAmerican, dtype: float64\n",
      "Respiratory % :  clust\n",
      "0    13.475177\n",
      "1    13.137454\n",
      "2    15.499533\n",
      "Name: diag_1_Respiratory System Disease, dtype: float64\n",
      "Physical Injury % :  clust\n",
      "0    0.000000\n",
      "1    0.000000\n",
      "2    0.010375\n",
      "Name: diag_1_Physical Injury, dtype: float64\n",
      "Injury and poisoning % :  clust\n",
      "0    6.216103\n",
      "1    6.428009\n",
      "2    7.749767\n",
      "Name: diag_1_Injury and poisoning, dtype: float64\n",
      "Injury and poisoning % :  clust\n",
      "0    3.108052\n",
      "1    4.221547\n",
      "2    3.714078\n",
      "Name: diag_1_Neoplasms, dtype: float64\n"
     ]
    }
   ],
   "source": [
    "# Extracting proportion values from the cluster\n",
    "\n",
    "average_ages = df_model2_processed.groupby('clust')['age'].mean()\n",
    "print(\"Average Normalized age: \",average_ages*100)\n",
    "\n",
    "average_male = df_model2_processed.groupby('clust')['gender_Male'].mean()\n",
    "print(\"Male % : \",(average_male*100))\n",
    "\n",
    "average_female = df_model2_processed.groupby('clust')['gender_Female'].mean()\n",
    "print(\"Female % : \",(average_female*100))\n",
    "\n",
    "average_cauc = df_model2_processed.groupby('clust')['race_Caucasian'].mean()\n",
    "print(\"Caucasian % : \",(average_cauc*100))\n",
    "\n",
    "average_aa = df_model2_processed.groupby('clust')['race_AfricanAmerican'].mean()\n",
    "print(\"AfricanAmerican % : \",(average_aa*100))\n",
    "\n",
    "average_d1_resp = df_model2_processed.groupby('clust')['diag_1_Respiratory System Disease'].mean()\n",
    "print(\"Respiratory % : \",(average_d1_resp*100))\n",
    "\n",
    "average_d1_resp = df_model2_processed.groupby('clust')['diag_1_Physical Injury'].mean()\n",
    "print(\"Physical Injury % : \",(average_d1_resp*100))\n",
    "\n",
    "average_d1_resp = df_model2_processed.groupby('clust')['diag_1_Injury and poisoning'].mean()\n",
    "print(\"Injury and poisoning % : \",(average_d1_resp*100))\n",
    "\n",
    "average_d1_resp = df_model2_processed.groupby('clust')['diag_1_Neoplasms'].mean()\n",
    "print(\"Neoplasms % : \",(average_d1_resp*100))\n"
   ]
  }
 ],
 "metadata": {
  "kernelspec": {
   "display_name": "Python 3 (ipykernel)",
   "language": "python",
   "name": "python3"
  },
  "language_info": {
   "codemirror_mode": {
    "name": "ipython",
    "version": 3
   },
   "file_extension": ".py",
   "mimetype": "text/x-python",
   "name": "python",
   "nbconvert_exporter": "python",
   "pygments_lexer": "ipython3",
   "version": "3.11.1"
  }
 },
 "nbformat": 4,
 "nbformat_minor": 5
}
