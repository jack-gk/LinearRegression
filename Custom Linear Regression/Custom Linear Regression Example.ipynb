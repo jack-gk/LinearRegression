{
 "cells": [
  {
   "cell_type": "code",
   "execution_count": 1,
   "id": "11e9b80d-36db-46c1-809a-cfd2b379c995",
   "metadata": {},
   "outputs": [],
   "source": [
    "import pandas as pd\n",
    "import matplotlib.pyplot as plt"
   ]
  },
  {
   "cell_type": "code",
   "execution_count": 2,
   "id": "9d57f19a-e5a5-4a38-ac19-b75dfd88f974",
   "metadata": {},
   "outputs": [],
   "source": [
    "data = pd.read_csv(\"score_updated.csv\")"
   ]
  },
  {
   "cell_type": "code",
   "execution_count": 3,
   "id": "16c51744-532a-4b99-8ecf-17862c88ef7a",
   "metadata": {},
   "outputs": [
    {
     "data": {
      "text/html": [
       "<div>\n",
       "<style scoped>\n",
       "    .dataframe tbody tr th:only-of-type {\n",
       "        vertical-align: middle;\n",
       "    }\n",
       "\n",
       "    .dataframe tbody tr th {\n",
       "        vertical-align: top;\n",
       "    }\n",
       "\n",
       "    .dataframe thead th {\n",
       "        text-align: right;\n",
       "    }\n",
       "</style>\n",
       "<table border=\"1\" class=\"dataframe\">\n",
       "  <thead>\n",
       "    <tr style=\"text-align: right;\">\n",
       "      <th></th>\n",
       "      <th>Hours</th>\n",
       "      <th>Scores</th>\n",
       "    </tr>\n",
       "  </thead>\n",
       "  <tbody>\n",
       "    <tr>\n",
       "      <th>0</th>\n",
       "      <td>2.5</td>\n",
       "      <td>21</td>\n",
       "    </tr>\n",
       "    <tr>\n",
       "      <th>1</th>\n",
       "      <td>5.1</td>\n",
       "      <td>47</td>\n",
       "    </tr>\n",
       "    <tr>\n",
       "      <th>2</th>\n",
       "      <td>3.2</td>\n",
       "      <td>27</td>\n",
       "    </tr>\n",
       "    <tr>\n",
       "      <th>3</th>\n",
       "      <td>8.5</td>\n",
       "      <td>75</td>\n",
       "    </tr>\n",
       "    <tr>\n",
       "      <th>4</th>\n",
       "      <td>3.5</td>\n",
       "      <td>30</td>\n",
       "    </tr>\n",
       "  </tbody>\n",
       "</table>\n",
       "</div>"
      ],
      "text/plain": [
       "   Hours  Scores\n",
       "0    2.5      21\n",
       "1    5.1      47\n",
       "2    3.2      27\n",
       "3    8.5      75\n",
       "4    3.5      30"
      ]
     },
     "execution_count": 3,
     "metadata": {},
     "output_type": "execute_result"
    }
   ],
   "source": [
    "data.head()"
   ]
  },
  {
   "cell_type": "markdown",
   "id": "2bdd0a54-f06e-44f9-a005-24104c5a7414",
   "metadata": {},
   "source": [
    "Shown below is a scatter plot of the scores indicating a clear linear relationship"
   ]
  },
  {
   "cell_type": "code",
   "execution_count": 4,
   "id": "df6634d9-0272-497e-ab86-1ff33a7d1d93",
   "metadata": {
    "scrolled": true
   },
   "outputs": [
    {
     "data": {
      "text/plain": [
       "<function matplotlib.pyplot.show(close=None, block=None)>"
      ]
     },
     "execution_count": 4,
     "metadata": {},
     "output_type": "execute_result"
    },
    {
     "data": {
      "image/png": "[encoded data removed]",
      "text/plain": [
       "<Figure size 640x480 with 1 Axes>"
      ]
     },
     "metadata": {},
     "output_type": "display_data"
    }
   ],
   "source": [
    "plt.scatter(data.Hours, data.Scores)\n",
    "plt.show"
   ]
  },
  {
   "cell_type": "markdown",
   "id": "1ad8bf6f-32f0-47aa-82af-c243ba9309f4",
   "metadata": {},
   "source": [
    "This function implements the mean squared error formula, working as a loss function to minimise during the algorithm setup"
   ]
  },
  {
   "cell_type": "code",
   "execution_count": 5,
   "id": "912d7be9-da7f-4f64-9fae-76a9507734ca",
   "metadata": {},
   "outputs": [],
   "source": [
    "def mse(m, b, points):\n",
    "    error = 0\n",
    "    for i in range(len(points)):\n",
    "        x = points.iloc[i].Hours\n",
    "        y = points.iloc[i].Scores\n",
    "        error += (y - (m*x+b))**2\n",
    "    error = error / len(points)"
   ]
  },
  {
   "cell_type": "markdown",
   "id": "51026781-ec24-4636-a6a8-df5100de310e",
   "metadata": {},
   "source": [
    "This function takes in the values of the current gradient (m) and intercept (b), points for iteration and rate at how aggressive the function is.\n",
    "\n",
    "For both the gradient and the intercept, the differentiation of the MSE formula is found and the value is shifted towards the more optimum solution\n",
    "using a sense"
   ]
  },
  {
   "cell_type": "code",
   "execution_count": 7,
   "id": "8c835e63-3eb9-41b7-a592-c4b6ca2af1a1",
   "metadata": {},
   "outputs": [],
   "source": [
    "def gradient(m, b, points, rate):\n",
    "    gradient = 0\n",
    "    intercept = 0\n",
    "\n",
    "    n = len(points)\n",
    "    \n",
    "    for i in range(n):\n",
    "        x = points.iloc[i].Hours\n",
    "        y = points.iloc[i].Scores\n",
    "        gradient += -2/n * x * (y - (m*x+b))\n",
    "        intercept += -2/n * (y - (m*x+b))\n",
    "\n",
    "    m_change = m - gradient * rate\n",
    "    b_change = b - intercept * rate\n",
    "\n",
    "    return m_change, b_change"
   ]
  },
  {
   "cell_type": "code",
   "execution_count": 8,
   "id": "a3a1551c-e7fc-47bf-8cd7-7f93c676a362",
   "metadata": {},
   "outputs": [
    {
     "name": "stdout",
     "output_type": "stream",
     "text": [
      "0.0 %\n",
      "10.0 %\n",
      "20.0 %\n",
      "30.0 %\n",
      "40.0 %\n",
      "50.0 %\n",
      "60.0 %\n",
      "70.0 %\n",
      "80.0 %\n",
      "90.0 %\n",
      "9.925125857810857 1.7109503719388002\n"
     ]
    },
    {
     "data": {
      "image/png": "[encoded data removed]",
      "text/plain": [
       "<Figure size 640x480 with 1 Axes>"
      ]
     },
     "metadata": {},
     "output_type": "display_data"
    }
   ],
   "source": [
    "m = 0\n",
    "b = 0\n",
    "rate = 0.002\n",
    "cycles = 1000\n",
    "\n",
    "for i in range(cycles):\n",
    "    m, b = gradient(m, b, data, rate)\n",
    "    if(i%100==0):\n",
    "        print(i/10,\"%\")\n",
    "\n",
    "print(m, b)\n",
    "\n",
    "plt.scatter(data.Hours, data.Scores)\n",
    "plt.plot(list(range(0, 10)), [m*x+b for x in range(0, 10)])\n",
    "plt.show()"
   ]
  }
 ],
 "metadata": {
  "kernelspec": {
   "display_name": "Python 3 (ipykernel)",
   "language": "python",
   "name": "python3"
  },
  "language_info": {
   "codemirror_mode": {
    "name": "ipython",
    "version": 3
   },
   "file_extension": ".py",
   "mimetype": "text/x-python",
   "name": "python",
   "nbconvert_exporter": "python",
   "pygments_lexer": "ipython3",
   "version": "3.11.1"
  }
 },
 "nbformat": 4,
 "nbformat_minor": 5
}
